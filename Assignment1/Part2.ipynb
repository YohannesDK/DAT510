{
 "cells": [
  {
   "cell_type": "markdown",
   "metadata": {},
   "source": [
    "# Part II - KES"
   ]
  },
  {
   "cell_type": "code",
   "execution_count": 2,
   "metadata": {},
   "outputs": [],
   "source": [
    "import numpy as np\n",
    "import matplotlib.pyplot as plt\n",
    "import string\n",
    "import math"
   ]
  },
  {
   "cell_type": "code",
   "execution_count": 3,
   "metadata": {},
   "outputs": [],
   "source": [
    "ALPHABET = string.ascii_uppercase\n",
    "ALPHABET_OFFSETED = {c: ord(c) - ord('A') for c in ALPHABET}"
   ]
  },
  {
   "cell_type": "code",
   "execution_count": 4,
   "metadata": {},
   "outputs": [
    {
     "data": {
      "text/plain": [
       "'HSQQDXHDRPYFKWVHNHDLOULLQDDWVWBDWWARJULS'"
      ]
     },
     "execution_count": 4,
     "metadata": {},
     "output_type": "execute_result"
    }
   ],
   "source": [
    "enc_msg = \"HSQQD XHDRP YFKWV HNHDL OULLQ DDWVW BDWWA RJULS\".upper().replace(\" \", \"\")\n",
    "enc_msg"
   ]
  },
  {
   "cell_type": "code",
   "execution_count": 5,
   "metadata": {},
   "outputs": [],
   "source": [
    "# phone book keys of the day\n",
    "name, streetname, housenumber, phonenr = \"John Smith\", \"Lagardsveien\", 3, \"51634782\""
   ]
  },
  {
   "cell_type": "markdown",
   "metadata": {},
   "source": [
    "### Task 1. Present your cryptanalysis on this KES."
   ]
  },
  {
   "cell_type": "markdown",
   "metadata": {},
   "source": [
    "#### TODO"
   ]
  },
  {
   "cell_type": "markdown",
   "metadata": {},
   "source": [
    "### Task 2. What is the clear-text of the message above?"
   ]
  },
  {
   "cell_type": "code",
   "execution_count": 6,
   "metadata": {},
   "outputs": [],
   "source": [
    "test_message = \"testing the ciphers\"\n",
    "test_key = \"key\""
   ]
  },
  {
   "cell_type": "markdown",
   "metadata": {},
   "source": [
    "#### Vigenere Cipher"
   ]
  },
  {
   "cell_type": "code",
   "execution_count": 7,
   "metadata": {},
   "outputs": [],
   "source": [
    "def vigener_cipher(text, key, mode = 'encrypt'):\n",
    "    message = \"\"\n",
    "    text = text.upper().replace(\" \", \"\").replace(\"\\n\", \"\")\n",
    "    key = key.upper()\n",
    "\n",
    "    for i in range(len(text)):\n",
    "        if mode == \"encrypt\":\n",
    "            message += ALPHABET[(ord(text[i]) + ord(key[i % len(key)])) % 26]\n",
    "        else:\n",
    "            message += ALPHABET[(ord(text[i]) - ord(key[i % len(key)])) % 26]\n",
    "    return message\n"
   ]
  },
  {
   "cell_type": "code",
   "execution_count": 8,
   "metadata": {},
   "outputs": [
    {
     "name": "stdout",
     "output_type": "stream",
     "text": [
      "DIQDMLQXFOGGZLCBW TESTINGTHECIPHERS\n"
     ]
    }
   ],
   "source": [
    "test_enc_vigener = vigener_cipher(test_message, test_key)\n",
    "test_dec_vigener = vigener_cipher(test_enc_vigener, test_key, mode = 'decrypt')\n",
    "print(test_enc_vigener, test_dec_vigener)"
   ]
  },
  {
   "cell_type": "markdown",
   "metadata": {},
   "source": [
    "#### Caesar Cipher"
   ]
  },
  {
   "cell_type": "code",
   "execution_count": 9,
   "metadata": {},
   "outputs": [],
   "source": [
    "def ceasar_cipher(text, key, mode=\"encrypt\"):\n",
    "    message = \"\"\n",
    "    text = text.upper().replace(\" \", \"\").replace(\"\\n\", \"\")\n",
    "    cipher_alpha = ALPHABET[key:] + ALPHABET[:key] # shift the alphabet by key positions\n",
    "\n",
    "    # mapping between the two alphabets\n",
    "    alpha_dict = dict(zip(cipher_alpha, ALPHABET)) if mode == \"decrypt\" else dict(zip(ALPHABET, cipher_alpha))\n",
    "    for c in text:\n",
    "        message += alpha_dict[c]\n",
    "    return message"
   ]
  },
  {
   "cell_type": "code",
   "execution_count": 10,
   "metadata": {},
   "outputs": [
    {
     "name": "stdout",
     "output_type": "stream",
     "text": [
      "WHVWLQJWKHFLSKHUV TESTINGTHECIPHERS\n"
     ]
    }
   ],
   "source": [
    "test_shift = 3\n",
    "test_enc_ceasar = ceasar_cipher(test_message, test_shift)\n",
    "test_dec_ceasar = ceasar_cipher(test_enc_ceasar, test_shift, mode=\"decrypt\")\n",
    "print(test_enc_ceasar, test_dec_ceasar)"
   ]
  },
  {
   "cell_type": "markdown",
   "metadata": {},
   "source": [
    "#### Transposition Cipher"
   ]
  },
  {
   "cell_type": "code",
   "execution_count": 11,
   "metadata": {},
   "outputs": [],
   "source": [
    "def transposition_cipher(text, key, mode=\"encrypt\"):\n",
    "    message = \"\"\n",
    "    text = text.upper().replace(\" \", \"\").replace(\"\\n\", \"\")\n",
    "\n",
    "    cols = len(key) # number of columns\n",
    "    rows = math.ceil(len(text) / cols) # number of rows\n",
    "    empty_spaces = (cols * rows) - len(text) # number of empty spaces\n",
    "\n",
    "    # create transposition matrix\n",
    "    matrix = np.array([[\"\"] * cols] * rows)\n",
    "    count = 0\n",
    "    if mode == \"encrypt\":\n",
    "        for i in range(len(text)):\n",
    "            for j in range(cols):\n",
    "                if count < len(text):\n",
    "                    matrix[i, j]= text[count]\n",
    "                    count += 1\n",
    "        for i in key:\n",
    "            for j in range(rows):\n",
    "                col = int(i) - 1\n",
    "                if matrix[j, col] != \"\":\n",
    "                    message += matrix[j, col]\n",
    "    else:\n",
    "        for i in key:\n",
    "            col = int(i) - 1\n",
    "            for j in range(rows):\n",
    "                if j < rows - 1:\n",
    "                    matrix[j, col] = text[count]\n",
    "                    count += 1\n",
    "                    continue\n",
    "                if col < (cols - empty_spaces):\n",
    "                    matrix[j, col] = text[count]\n",
    "                    count += 1\n",
    "\n",
    "        for i in range(rows):\n",
    "            for j in range(cols):\n",
    "                if matrix[i, j] != \"\":\n",
    "                    message += matrix[i, j]\n",
    "    return message"
   ]
  },
  {
   "cell_type": "code",
   "execution_count": 12,
   "metadata": {},
   "outputs": [
    {
     "name": "stdout",
     "output_type": "stream",
     "text": [
      "IPTHSNHSCTIGETREE TESTINGTHECIPHERS\n"
     ]
    }
   ],
   "source": [
    "test_enc_transposition = transposition_cipher(test_message, phonenr)\n",
    "test_dec_transposition = transposition_cipher(test_enc_transposition, phonenr, mode=\"decrypt\")\n",
    "print(test_enc_transposition, test_dec_transposition)"
   ]
  },
  {
   "cell_type": "markdown",
   "metadata": {},
   "source": [
    "### Task 3. How would you improve this KES?"
   ]
  },
  {
   "cell_type": "markdown",
   "metadata": {},
   "source": [
    "..."
   ]
  },
  {
   "cell_type": "markdown",
   "metadata": {},
   "source": [
    "### Task 4. Implement your improved KES and encrypt the same message"
   ]
  },
  {
   "cell_type": "code",
   "execution_count": 17,
   "metadata": {},
   "outputs": [],
   "source": [
    "def KES_cipher(text, street_name, house_number, phone_nr, mode=\"encrypt\", withimprovments=False):\n",
    "    message = \"\"\n",
    "    text = text.upper().replace(\" \", \"\").replace(\"\\n\", \"\")\n",
    "\n",
    "    if mode == \"encrypt\":\n",
    "        message = ceasar_cipher(text, house_number)\n",
    "        message = transposition_cipher(message, phone_nr)\n",
    "        if withimprovments:\n",
    "            message = vigener_cipher(message, street_name)\n",
    "    else:\n",
    "        if withimprovments:\n",
    "            message = vigener_cipher(text, street_name, mode=\"decrypt\")\n",
    "        if withimprovments:\n",
    "            message = transposition_cipher(message, phone_nr, mode=\"decrypt\")\n",
    "        else:\n",
    "            message = transposition_cipher(text, phone_nr, mode=\"decrypt\")\n",
    "        message = ceasar_cipher(message, house_number, mode=\"decrypt\")\n",
    "    return message\n"
   ]
  },
  {
   "cell_type": "code",
   "execution_count": 14,
   "metadata": {},
   "outputs": [
    {
     "name": "stdout",
     "output_type": "stream",
     "text": [
      "WSCKMTCQJEPWSWAHY TESTINGTHECIPHERS\n"
     ]
    }
   ],
   "source": [
    "test_enc_KES = KES_cipher(test_message, streetname, housenumber, phonenr)\n",
    "test_dec_KES = KES_cipher(test_enc_KES, streetname, housenumber, phonenr, mode=\"decrypt\")\n",
    "print(test_enc_KES, test_dec_KES)"
   ]
  },
  {
   "cell_type": "code",
   "execution_count": 21,
   "metadata": {},
   "outputs": [
    {
     "name": "stdout",
     "output_type": "stream",
     "text": [
      "UOELEVAYEGKRPCAAAREINHTTOIAINTSTMPINASTX UOELEVAYEGKRPCAAAREINHTTOIAINTSTMPINASTX True\n"
     ]
    }
   ],
   "source": [
    "dec_KES = KES_cipher(enc_msg, streetname, housenumber, phonenr, mode=\"decrypt\")\n",
    "hmm = ceasar_cipher(transposition_cipher(enc_msg, phonenr, mode=\"decrypt\"), housenumber, mode=\"decrypt\")\n",
    "print(dec_KES, hmm, dec_KES == hmm)"
   ]
  },
  {
   "cell_type": "markdown",
   "metadata": {},
   "source": [
    "WTF"
   ]
  },
  {
   "cell_type": "markdown",
   "metadata": {},
   "source": [
    "### Task 5. Webserver using improved KES"
   ]
  },
  {
   "cell_type": "code",
   "execution_count": 16,
   "metadata": {},
   "outputs": [
    {
     "name": "stdout",
     "output_type": "stream",
     "text": [
      " * Serving Flask app '__main__'\n",
      " * Debug mode: off\n"
     ]
    },
    {
     "name": "stderr",
     "output_type": "stream",
     "text": [
      "WARNING: This is a development server. Do not use it in a production deployment. Use a production WSGI server instead.\n",
      " * Running on http://127.0.0.1:5000\n",
      "Press CTRL+C to quit\n"
     ]
    }
   ],
   "source": [
    "from flask import Flask, request\n",
    "\n",
    "app = Flask(__name__)\n",
    "\n",
    "@app.route('/')\n",
    "def index():\n",
    "    return \"To encrypt a message: /encrypt?text=mymessage. <br> To decrypt a cipher: /decrypt?cipher=mycipher'\"\n",
    "\n",
    "@app.route('/encrypt')\n",
    "def encrypt():\n",
    "    message = request.args.get('text')\n",
    "    return \"Cipher\" + KES_cipher(message, streetname, housenumber, phonenr)\n",
    "\n",
    "@app.route('/decrypt')\n",
    "def decrypt():\n",
    "    message = request.args.get('cipher')\n",
    "    return \"Plaintext\" + KES_cipher(message, streetname, housenumber, phonenr, mode=\"decrypt\")\n",
    "\n",
    "if __name__ == '__main__':\n",
    "    app.run()"
   ]
  },
  {
   "cell_type": "code",
   "execution_count": 22,
   "metadata": {},
   "outputs": [
    {
     "data": {
      "text/plain": [
       "65"
      ]
     },
     "execution_count": 22,
     "metadata": {},
     "output_type": "execute_result"
    }
   ],
   "source": [
    "ord('A')"
   ]
  }
 ],
 "metadata": {
  "kernelspec": {
   "display_name": "Python 3.9.13 ('DAT510')",
   "language": "python",
   "name": "python3"
  },
  "language_info": {
   "codemirror_mode": {
    "name": "ipython",
    "version": 3
   },
   "file_extension": ".py",
   "mimetype": "text/x-python",
   "name": "python",
   "nbconvert_exporter": "python",
   "pygments_lexer": "ipython3",
   "version": "3.9.13"
  },
  "orig_nbformat": 4,
  "vscode": {
   "interpreter": {
    "hash": "c6cb225e48f9a37ee904909fc8a3469ef23935e3df733108b849c8f686eb3968"
   }
  }
 },
 "nbformat": 4,
 "nbformat_minor": 2
}
