{
 "cells": [
  {
   "cell_type": "markdown",
   "metadata": {},
   "source": [
    "# Part II - KES"
   ]
  },
  {
   "cell_type": "code",
   "execution_count": 28,
   "metadata": {},
   "outputs": [],
   "source": [
    "import numpy as np\n",
    "import matplotlib.pyplot as plt\n",
    "import string\n",
    "import math"
   ]
  },
  {
   "cell_type": "code",
   "execution_count": 29,
   "metadata": {},
   "outputs": [],
   "source": [
    "ALPHABET = string.ascii_uppercase"
   ]
  },
  {
   "cell_type": "code",
   "execution_count": 30,
   "metadata": {},
   "outputs": [
    {
     "data": {
      "text/plain": [
       "'HSQQDXHDRPYFKWVHNHDLOULLQDDWVWBDWWARJULS'"
      ]
     },
     "execution_count": 30,
     "metadata": {},
     "output_type": "execute_result"
    }
   ],
   "source": [
    "enc_msg = \"HSQQD XHDRP YFKWV HNHDL OULLQ DDWVW BDWWA RJULS\".upper().replace(\" \", \"\")\n",
    "enc_msg"
   ]
  },
  {
   "cell_type": "code",
   "execution_count": 31,
   "metadata": {},
   "outputs": [],
   "source": [
    "# phone book keys of the day\n",
    "name, streetname, housenumber, phonenr = \"John Smith\", \"Lagardsveien\", 3, \"51634782\""
   ]
  },
  {
   "cell_type": "markdown",
   "metadata": {},
   "source": [
    "### Task 1. Present your cryptanalysis on this KES."
   ]
  },
  {
   "cell_type": "markdown",
   "metadata": {},
   "source": [
    "#### TODO"
   ]
  },
  {
   "cell_type": "markdown",
   "metadata": {},
   "source": [
    "### Task 2. What is the clear-text of the message above?"
   ]
  },
  {
   "cell_type": "code",
   "execution_count": 32,
   "metadata": {},
   "outputs": [
    {
     "data": {
      "text/plain": [
       "16"
      ]
     },
     "execution_count": 32,
     "metadata": {},
     "output_type": "execute_result"
    }
   ],
   "source": [
    "test_message = \"testing the ciphes\"\n",
    "test_key = \"key\"\n",
    "len(test_message.replace(\" \", \"\"))"
   ]
  },
  {
   "cell_type": "markdown",
   "metadata": {},
   "source": [
    "#### Vigenere Cipher"
   ]
  },
  {
   "cell_type": "code",
   "execution_count": 33,
   "metadata": {},
   "outputs": [],
   "source": [
    "def vigener_cipher(text, key, mode = 'encrypt'):\n",
    "    message = \"\"\n",
    "    text = text.upper().replace(\" \", \"\").replace(\"\\n\", \"\")\n",
    "    key = key.upper()\n",
    "\n",
    "    for i in range(len(text)):\n",
    "        if mode == \"encrypt\":\n",
    "            message += ALPHABET[(ord(text[i]) + ord(key[i % len(key)])) % 26]\n",
    "        else:\n",
    "            message += ALPHABET[(ord(text[i]) - ord(key[i % len(key)])) % 26]\n",
    "    return message\n"
   ]
  },
  {
   "cell_type": "code",
   "execution_count": 34,
   "metadata": {},
   "outputs": [
    {
     "name": "stdout",
     "output_type": "stream",
     "text": [
      "DIQDMLQXFOGGZLCC TESTINGTHECIPHES\n"
     ]
    }
   ],
   "source": [
    "test_enc_vigener = vigener_cipher(test_message, test_key)\n",
    "test_dec_vigener = vigener_cipher(test_enc_vigener, test_key, mode = 'decrypt')\n",
    "print(test_enc_vigener, test_dec_vigener)"
   ]
  },
  {
   "cell_type": "markdown",
   "metadata": {},
   "source": [
    "#### Caesar Cipher"
   ]
  },
  {
   "cell_type": "code",
   "execution_count": 35,
   "metadata": {},
   "outputs": [],
   "source": [
    "def ceasar_cipher(text, key, mode=\"encrypt\"):\n",
    "    message = \"\"\n",
    "    text = text.upper().replace(\" \", \"\").replace(\"\\n\", \"\")\n",
    "    cipher_alpha = ALPHABET[key:] + ALPHABET[:key] # shift the alphabet by key positions\n",
    "\n",
    "    # mapping between the two alphabets\n",
    "    alpha_dict = dict(zip(cipher_alpha, ALPHABET)) if mode == \"decrypt\" else dict(zip(ALPHABET, cipher_alpha))\n",
    "    for c in text:\n",
    "        message += alpha_dict[c]\n",
    "    return message"
   ]
  },
  {
   "cell_type": "code",
   "execution_count": 36,
   "metadata": {},
   "outputs": [
    {
     "name": "stdout",
     "output_type": "stream",
     "text": [
      "WHVWLQJWKHFLSKHV TESTINGTHECIPHES\n"
     ]
    }
   ],
   "source": [
    "test_shift = 3\n",
    "test_enc_ceasar = ceasar_cipher(test_message, test_shift)\n",
    "test_dec_ceasar = ceasar_cipher(test_enc_ceasar, test_shift, mode=\"decrypt\")\n",
    "print(test_enc_ceasar, test_dec_ceasar)"
   ]
  },
  {
   "cell_type": "markdown",
   "metadata": {},
   "source": [
    "#### Transposition Cipher"
   ]
  },
  {
   "cell_type": "code",
   "execution_count": 37,
   "metadata": {},
   "outputs": [],
   "source": [
    "def transposition_cipher(text, key, mode=\"encrypt\"):\n",
    "    message = \"\"\n",
    "    text = text.upper().replace(\" \", \"\").replace(\"\\n\", \"\")\n",
    "\n",
    "    cols, rows = len(key), math.ceil(len(text) / len(key))\n",
    "    matrix = np.array([[\"\"] * cols] * rows) # create transposition matrix\n",
    "    letter_index = 0\n",
    "\n",
    "    if mode == \"encrypt\":\n",
    "        # fill matrix\n",
    "        for i in range(len(text)):\n",
    "            for j in range(cols):\n",
    "                if letter_index < len(text):\n",
    "                    matrix[i, j] = text[letter_index]\n",
    "                    letter_index += 1\n",
    "        # read matrix => encryoted message\n",
    "        for k in sorted(key):\n",
    "            for i in range(rows):\n",
    "                message += matrix[i, key.index(k)]\n",
    "    else:\n",
    "        for i in key:\n",
    "            col = int(i) - 1 # string col index to int\n",
    "            letter = text[rows*col:(rows*col) + rows] # get letter from rows and col indexes\n",
    "            # fill matrix\n",
    "            for j in range(rows):\n",
    "                matrix[j, letter_index] = letter[j]\n",
    "            letter_index += 1\n",
    "        \n",
    "        # read matrix => decrupt message\n",
    "        for i in range(rows):\n",
    "            for j in range(cols):\n",
    "                message += matrix[i, j]\n",
    "                    \n",
    "    return message"
   ]
  },
  {
   "cell_type": "code",
   "execution_count": 50,
   "metadata": {},
   "outputs": [
    {
     "name": "stdout",
     "output_type": "stream",
     "text": [
      "EAEAGETPTILHTSTSMXNIEGNR TESTINGASAMPLINGTEXTHERE\n"
     ]
    }
   ],
   "source": [
    "test_enc_transposition = transposition_cipher(test_message, phonenr)\n",
    "test_dec_transposition = transposition_cipher(test_enc_transposition, phonenr, mode=\"decrypt\")\n",
    "print(test_enc_transposition, test_dec_transposition)"
   ]
  },
  {
   "cell_type": "markdown",
   "metadata": {},
   "source": [
    "### Task 3. How would you improve this KES?"
   ]
  },
  {
   "cell_type": "markdown",
   "metadata": {},
   "source": [
    "..."
   ]
  },
  {
   "cell_type": "markdown",
   "metadata": {},
   "source": [
    "### Task 4. Implement your improved KES and encrypt the same message"
   ]
  },
  {
   "cell_type": "code",
   "execution_count": 52,
   "metadata": {},
   "outputs": [],
   "source": [
    "def KES_cipher(text, street_name, house_number, phone_nr, mode=\"encrypt\", withimprovments=False):\n",
    "    message = \"\"\n",
    "    text = text.upper().replace(\" \", \"\").replace(\"\\n\", \"\")\n",
    "\n",
    "    if mode == \"encrypt\":\n",
    "        message = transposition_cipher(text, phone_nr)\n",
    "        message = ceasar_cipher(message, house_number)\n",
    "        if withimprovments:\n",
    "            message = vigener_cipher(message, street_name)\n",
    "    else:\n",
    "        if withimprovments:\n",
    "            message = vigener_cipher(text, street_name, mode=\"decrypt\")\n",
    "        if withimprovments:\n",
    "            message = transposition_cipher(message, phone_nr, mode=\"decrypt\")\n",
    "        else:\n",
    "            message = ceasar_cipher(text, house_number, mode=\"decrypt\")\n",
    "        message = transposition_cipher(message, phone_nr, mode=\"decrypt\")\n",
    "    return message\n"
   ]
  },
  {
   "cell_type": "code",
   "execution_count": 54,
   "metadata": {},
   "outputs": [
    {
     "name": "stdout",
     "output_type": "stream",
     "text": [
      "HHWVWLLSWKVFQKJH TESTINGTHECIPHES\n"
     ]
    }
   ],
   "source": [
    "test_enc_KES = KES_cipher(test_message, streetname, housenumber, phonenr)\n",
    "test_dec_KES = KES_cipher(test_enc_KES, streetname, housenumber, phonenr, mode=\"decrypt\")\n",
    "print(test_enc_KES, test_dec_KES)"
   ]
  },
  {
   "cell_type": "markdown",
   "metadata": {},
   "source": [
    "##### Decrypting the first message"
   ]
  },
  {
   "cell_type": "code",
   "execution_count": 55,
   "metadata": {},
   "outputs": [
    {
     "data": {
      "text/plain": [
       "'LEAVEYOURPACKAGEINTHETRAINSTATIONATSIXPM'"
      ]
     },
     "execution_count": 55,
     "metadata": {},
     "output_type": "execute_result"
    }
   ],
   "source": [
    "KES_cipher(enc_msg, streetname, housenumber, phonenr, mode=\"decrypt\")"
   ]
  },
  {
   "cell_type": "code",
   "execution_count": 53,
   "metadata": {},
   "outputs": [
    {
     "data": {
      "text/plain": [
       "'HSQQDXHDRPYFKWVHNHDLOULLQDDWVWBDWWARJULS'"
      ]
     },
     "execution_count": 53,
     "metadata": {},
     "output_type": "execute_result"
    }
   ],
   "source": [
    "KES_cipher('LEAVEYOURPACKAGEINTHETRAINSTATIONATSIXPM', streetname, housenumber, phonenr)"
   ]
  },
  {
   "cell_type": "markdown",
   "metadata": {},
   "source": [
    "### Task 5. Webserver using improved KES"
   ]
  },
  {
   "cell_type": "code",
   "execution_count": 15,
   "metadata": {},
   "outputs": [
    {
     "name": "stdout",
     "output_type": "stream",
     "text": [
      " * Serving Flask app '__main__'\n",
      " * Debug mode: off\n"
     ]
    },
    {
     "name": "stderr",
     "output_type": "stream",
     "text": [
      "\u001b[31m\u001b[1mWARNING: This is a development server. Do not use it in a production deployment. Use a production WSGI server instead.\u001b[0m\n",
      " * Running on http://127.0.0.1:5000\n",
      "\u001b[33mPress CTRL+C to quit\u001b[0m\n",
      "127.0.0.1 - - [16/Sep/2022 12:10:48] \"GET /encrypt?text=LEAVEYOURPACKAGEINTHETRAINSTATIONATSIXPM HTTP/1.1\" 200 -\n",
      "127.0.0.1 - - [16/Sep/2022 12:11:03] \"GET /encrypt?text=SSWQUAZYVXCSVWBHEKVGSCPYBDJWMZTYAEEEUURS HTTP/1.1\" 200 -\n",
      "127.0.0.1 - - [16/Sep/2022 12:11:20] \"GET /decrypt?cipher=SSWQUAZYVXCSVWBHEKVGSCPYBDJWMZTYAEEEUURS HTTP/1.1\" 200 -\n"
     ]
    }
   ],
   "source": [
    "from flask import Flask, request\n",
    "app = Flask(__name__)\n",
    "\n",
    "@app.route('/')\n",
    "def index():\n",
    "    return \"To encrypt a message: /encrypt?text=mymessage. <br> To decrypt a cipher: /decrypt?cipher=mycipher'\"\n",
    "\n",
    "@app.route('/encrypt')\n",
    "def encrypt():\n",
    "    message = request.args.get('text')\n",
    "    return \"Cipher \" + KES_cipher(message, streetname, housenumber, phonenr, mode=\"encrypt\", withimprovments=True)\n",
    "\n",
    "@app.route('/decrypt')\n",
    "def decrypt():\n",
    "    message = request.args.get('cipher')\n",
    "    return \"Plaintext \" + KES_cipher(message, streetname, housenumber, phonenr, mode=\"decrypt\", withimprovments=True)\n",
    "\n",
    "# if __name__ == '__main__':\n",
    "#     app.run()"
   ]
  }
 ],
 "metadata": {
  "kernelspec": {
   "display_name": "Python 3.10.3 64-bit",
   "language": "python",
   "name": "python3"
  },
  "language_info": {
   "codemirror_mode": {
    "name": "ipython",
    "version": 3
   },
   "file_extension": ".py",
   "mimetype": "text/x-python",
   "name": "python",
   "nbconvert_exporter": "python",
   "pygments_lexer": "ipython3",
   "version": "3.10.3"
  },
  "orig_nbformat": 4,
  "vscode": {
   "interpreter": {
    "hash": "369f2c481f4da34e4445cda3fffd2e751bd1c4d706f27375911949ba6bb62e1c"
   }
  }
 },
 "nbformat": 4,
 "nbformat_minor": 2
}
