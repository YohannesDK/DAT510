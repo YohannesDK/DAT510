{
 "cells": [
  {
   "cell_type": "markdown",
   "metadata": {},
   "source": [
    "# Part II - KES"
   ]
  },
  {
   "cell_type": "code",
   "execution_count": 86,
   "metadata": {},
   "outputs": [],
   "source": [
    "import numpy as np\n",
    "import matplotlib.pyplot as plt\n",
    "import string\n",
    "import math"
   ]
  },
  {
   "cell_type": "code",
   "execution_count": 87,
   "metadata": {},
   "outputs": [],
   "source": [
    "ALPHABET = string.ascii_uppercase"
   ]
  },
  {
   "cell_type": "code",
   "execution_count": 88,
   "metadata": {},
   "outputs": [
    {
     "data": {
      "text/plain": [
       "'HSQQDXHDRPYFKWVHNHDLOULLQDDWVWBDWWARJULS'"
      ]
     },
     "execution_count": 88,
     "metadata": {},
     "output_type": "execute_result"
    }
   ],
   "source": [
    "enc_msg = \"HSQQD XHDRP YFKWV HNHDL OULLQ DDWVW BDWWA RJULS\".upper().replace(\" \", \"\")\n",
    "enc_msg"
   ]
  },
  {
   "cell_type": "code",
   "execution_count": 89,
   "metadata": {},
   "outputs": [],
   "source": [
    "# phone book keys of the day\n",
    "name, streetname, housenumber, phonenr = \"John Smith\", \"Lagardsveien\", 3, \"51634782\""
   ]
  },
  {
   "cell_type": "markdown",
   "metadata": {},
   "source": [
    "### Task 1. Present your cryptanalysis on this KES."
   ]
  },
  {
   "cell_type": "markdown",
   "metadata": {},
   "source": [
    "The product cipher consists of a Ceasar Cipher and a Transposition Cipher. It was encrypted first with the transposition cipher, then with the Ceasar.<br>\n",
    "Now for the decryption process we need to reverse the process. First we need to decrypt the Ceasar Cipher, then the Transposition Cipher. <br>"
   ]
  },
  {
   "cell_type": "markdown",
   "metadata": {},
   "source": [
    "### Task 2. What is the clear-text of the message above?"
   ]
  },
  {
   "cell_type": "code",
   "execution_count": 90,
   "metadata": {},
   "outputs": [],
   "source": [
    "test_message = \"testing the ciphes\"\n",
    "test_key = \"key\""
   ]
  },
  {
   "cell_type": "markdown",
   "metadata": {},
   "source": [
    "#### Caesar Cipher"
   ]
  },
  {
   "cell_type": "code",
   "execution_count": 91,
   "metadata": {},
   "outputs": [],
   "source": [
    "def ceasar_cipher(text, key, mode=\"encrypt\"):\n",
    "    message = \"\"\n",
    "    text = text.upper().replace(\" \", \"\").replace(\"\\n\", \"\")\n",
    "    cipher_alpha = ALPHABET[key:] + ALPHABET[:key] # shift the alphabet by key positions\n",
    "\n",
    "    # mapping between the two alphabets\n",
    "    alpha_dict = dict(zip(cipher_alpha, ALPHABET)) if mode == \"decrypt\" else dict(zip(ALPHABET, cipher_alpha))\n",
    "    for c in text:\n",
    "        message += alpha_dict[c]\n",
    "    return message"
   ]
  },
  {
   "cell_type": "code",
   "execution_count": 92,
   "metadata": {},
   "outputs": [
    {
     "name": "stdout",
     "output_type": "stream",
     "text": [
      "WHVWLQJWKHFLSKHV TESTINGTHECIPHES\n"
     ]
    }
   ],
   "source": [
    "test_shift = 3\n",
    "test_enc_ceasar = ceasar_cipher(test_message, test_shift)\n",
    "test_dec_ceasar = ceasar_cipher(test_enc_ceasar, test_shift, mode=\"decrypt\")\n",
    "print(test_enc_ceasar, test_dec_ceasar)"
   ]
  },
  {
   "cell_type": "markdown",
   "metadata": {},
   "source": [
    "#### Transposition Cipher"
   ]
  },
  {
   "cell_type": "code",
   "execution_count": 93,
   "metadata": {},
   "outputs": [],
   "source": [
    "def transposition_cipher(text, key, mode=\"encrypt\"):\n",
    "    message = \"\"\n",
    "    text = text.upper().replace(\" \", \"\").replace(\"\\n\", \"\")\n",
    "\n",
    "    cols, rows = len(key), math.ceil(len(text) / len(key))\n",
    "    matrix = np.array([[\"\"] * cols] * rows) # create transposition matrix\n",
    "    letter_index = 0\n",
    "\n",
    "    if mode == \"encrypt\":\n",
    "        # fill matrix\n",
    "        for i in range(len(text)):\n",
    "            for j in range(cols):\n",
    "                if letter_index < len(text):\n",
    "                    matrix[i, j] = text[letter_index]\n",
    "                    letter_index += 1\n",
    "        # read matrix => encryoted message\n",
    "        for k in sorted(key):\n",
    "            for i in range(rows):\n",
    "                message += matrix[i, key.index(k)]\n",
    "    else:\n",
    "        for i in key:\n",
    "            col = int(i) - 1 # string col index to int\n",
    "            letter = text[rows*col:(rows*col) + rows] # get letter from rows and col indexes\n",
    "            # fill matrix\n",
    "            for j in range(rows):\n",
    "                matrix[j, letter_index] = letter[j]\n",
    "            letter_index += 1\n",
    "        \n",
    "        # read matrix => decrupt message\n",
    "        for i in range(rows):\n",
    "            for j in range(cols):\n",
    "                message += matrix[i, j]\n",
    "                    \n",
    "    return message"
   ]
  },
  {
   "cell_type": "code",
   "execution_count": 94,
   "metadata": {},
   "outputs": [
    {
     "name": "stdout",
     "output_type": "stream",
     "text": [
      "EETSTIIPTHSCNHGE TESTINGTHECIPHES\n"
     ]
    }
   ],
   "source": [
    "test_enc_transposition = transposition_cipher(test_message, phonenr)\n",
    "test_dec_transposition = transposition_cipher(test_enc_transposition, phonenr, mode=\"decrypt\")\n",
    "print(test_enc_transposition, test_dec_transposition)"
   ]
  },
  {
   "cell_type": "markdown",
   "metadata": {},
   "source": [
    "#### Decrypting the message"
   ]
  },
  {
   "cell_type": "code",
   "execution_count": 95,
   "metadata": {},
   "outputs": [
    {
     "data": {
      "text/plain": [
       "'LEAVEYOURPACKAGEINTHETRAINSTATIONATSIXPM'"
      ]
     },
     "execution_count": 95,
     "metadata": {},
     "output_type": "execute_result"
    }
   ],
   "source": [
    "first_decryption = ceasar_cipher(enc_msg, 3, mode=\"decrypt\")\n",
    "plain_text = transposition_cipher(first_decryption, phonenr, mode=\"decrypt\")\n",
    "plain_text"
   ]
  },
  {
   "cell_type": "markdown",
   "metadata": {},
   "source": [
    "### Task 3. How would you improve this KES?"
   ]
  },
  {
   "cell_type": "markdown",
   "metadata": {},
   "source": [
    "One way to improve a product cipher such as KES, is to add another ciphering algorithm on top of the existing ones. <br>\n",
    "This would make it harder to crack the ciphering algorithms, and also the keys for each of the algorithms."
   ]
  },
  {
   "cell_type": "markdown",
   "metadata": {},
   "source": [
    "### Task 4. Implement your improved KES and encrypt the same message"
   ]
  },
  {
   "cell_type": "markdown",
   "metadata": {},
   "source": [
    "#### Vigenere Cipher"
   ]
  },
  {
   "cell_type": "code",
   "execution_count": 96,
   "metadata": {},
   "outputs": [],
   "source": [
    "def vigener_cipher(text, key, mode = 'encrypt'):\n",
    "    message = \"\"\n",
    "    text = text.upper().replace(\" \", \"\").replace(\"\\n\", \"\")\n",
    "    key = key.upper()\n",
    "\n",
    "    for i in range(len(text)):\n",
    "        if mode == \"encrypt\":\n",
    "            message += ALPHABET[(ord(text[i]) + ord(key[i % len(key)])) % 26]\n",
    "        else:\n",
    "            message += ALPHABET[(ord(text[i]) - ord(key[i % len(key)])) % 26]\n",
    "    return message\n"
   ]
  },
  {
   "cell_type": "code",
   "execution_count": 97,
   "metadata": {},
   "outputs": [
    {
     "name": "stdout",
     "output_type": "stream",
     "text": [
      "DIQDMLQXFOGGZLCC TESTINGTHECIPHES\n"
     ]
    }
   ],
   "source": [
    "test_enc_vigener = vigener_cipher(test_message, test_key)\n",
    "test_dec_vigener = vigener_cipher(test_enc_vigener, test_key, mode = 'decrypt')\n",
    "print(test_enc_vigener, test_dec_vigener)"
   ]
  },
  {
   "cell_type": "markdown",
   "metadata": {},
   "source": [
    "\n",
    "#### KES"
   ]
  },
  {
   "cell_type": "code",
   "execution_count": 98,
   "metadata": {},
   "outputs": [],
   "source": [
    "def KES_cipher(text, street_name, house_number, phone_nr, mode=\"encrypt\", withimprovments=False):\n",
    "    message = \"\"\n",
    "    text = text.upper().replace(\" \", \"\").replace(\"\\n\", \"\")\n",
    "\n",
    "    if mode == \"encrypt\":\n",
    "        message = transposition_cipher(text, phone_nr)\n",
    "        message = ceasar_cipher(message, house_number)\n",
    "        if withimprovments:\n",
    "            message = vigener_cipher(message, street_name)\n",
    "    else:\n",
    "        if withimprovments:\n",
    "            message = vigener_cipher(text, street_name, mode=\"decrypt\")\n",
    "            message = ceasar_cipher(message, house_number, mode=\"decrypt\")\n",
    "        else:\n",
    "            message = ceasar_cipher(text, house_number, mode=\"decrypt\")\n",
    "        message = transposition_cipher(message, phone_nr, mode=\"decrypt\")\n",
    "    return message\n"
   ]
  },
  {
   "cell_type": "code",
   "execution_count": 99,
   "metadata": {},
   "outputs": [
    {
     "name": "stdout",
     "output_type": "stream",
     "text": [
      "HHWVWLLSWKVFQKJH TESTINGTHECIPHES\n"
     ]
    }
   ],
   "source": [
    "test_enc_KES = KES_cipher(test_message, streetname, housenumber, phonenr)\n",
    "test_dec_KES = KES_cipher(test_enc_KES, streetname, housenumber, phonenr, mode=\"decrypt\")\n",
    "print(test_enc_KES, test_dec_KES)"
   ]
  },
  {
   "cell_type": "markdown",
   "metadata": {},
   "source": [
    "#### Decrypting the message"
   ]
  },
  {
   "cell_type": "code",
   "execution_count": 100,
   "metadata": {},
   "outputs": [
    {
     "data": {
      "text/plain": [
       "'LEAVEYOURPACKAGEINTHETRAINSTATIONATSIXPM'"
      ]
     },
     "execution_count": 100,
     "metadata": {},
     "output_type": "execute_result"
    }
   ],
   "source": [
    "KES_cipher(enc_msg, streetname, housenumber, phonenr, mode=\"decrypt\")"
   ]
  },
  {
   "cell_type": "code",
   "execution_count": 101,
   "metadata": {},
   "outputs": [
    {
     "data": {
      "text/plain": [
       "'HSQQDXHDRPYFKWVHNHDLOULLQDDWVWBDWWARJULS'"
      ]
     },
     "execution_count": 101,
     "metadata": {},
     "output_type": "execute_result"
    }
   ],
   "source": [
    "KES_cipher('LEAVEYOURPACKAGEINTHETRAINSTATIONATSIXPM', streetname, housenumber, phonenr)"
   ]
  },
  {
   "cell_type": "markdown",
   "metadata": {},
   "source": [
    "#### With Improved KES"
   ]
  },
  {
   "cell_type": "code",
   "execution_count": 102,
   "metadata": {},
   "outputs": [
    {
     "data": {
      "text/plain": [
       "'SSWQUAZYVXCSVWBHEKVGSCPYBDJWMZTYAEEEUURS'"
      ]
     },
     "execution_count": 102,
     "metadata": {},
     "output_type": "execute_result"
    }
   ],
   "source": [
    "enc_improved = KES_cipher('LEAVEYOURPACKAGEINTHETRAINSTATIONATSIXPM', streetname, housenumber, phonenr, withimprovments=True)\n",
    "enc_improved"
   ]
  },
  {
   "cell_type": "code",
   "execution_count": 103,
   "metadata": {},
   "outputs": [
    {
     "data": {
      "text/plain": [
       "'LEAVEYOURPACKAGEINTHETRAINSTATIONATSIXPM'"
      ]
     },
     "execution_count": 103,
     "metadata": {},
     "output_type": "execute_result"
    }
   ],
   "source": [
    "KES_cipher(enc_improved, streetname, housenumber, phonenr, mode=\"decrypt\", withimprovments=True)"
   ]
  },
  {
   "cell_type": "markdown",
   "metadata": {},
   "source": [
    "### Task 5. Webserver using improved KES"
   ]
  },
  {
   "cell_type": "code",
   "execution_count": 105,
   "metadata": {},
   "outputs": [
    {
     "name": "stdout",
     "output_type": "stream",
     "text": [
      " * Serving Flask app '__main__'\n",
      " * Debug mode: off\n"
     ]
    },
    {
     "name": "stderr",
     "output_type": "stream",
     "text": [
      "WARNING: This is a development server. Do not use it in a production deployment. Use a production WSGI server instead.\n",
      " * Running on http://127.0.0.1:5000\n",
      "Press CTRL+C to quit\n",
      "127.0.0.1 - - [23/Sep/2022 21:56:39] \"GET /encrypt?text=LEAVEYOURPACKAGEINTHETRAINSTATIONATSIXPM HTTP/1.1\" 200 -\n",
      "127.0.0.1 - - [23/Sep/2022 21:56:54] \"GET /decrypt?cipher=SSWQUAZYVXCSVWBHEKVGSCPYBDJWMZTYAEEEUURS HTTP/1.1\" 200 -\n"
     ]
    }
   ],
   "source": [
    "from flask import Flask, request\n",
    "app = Flask(__name__)\n",
    "\n",
    "@app.route('/')\n",
    "def index():\n",
    "    return \"To encrypt a message: /encrypt?text=mymessage. <br> To decrypt a cipher: /decrypt?cipher=mycipher'\"\n",
    "\n",
    "@app.route('/encrypt')\n",
    "def encrypt():\n",
    "    message = request.args.get('text')\n",
    "    return \"Cipher \" + KES_cipher(message, streetname, housenumber, phonenr, mode=\"encrypt\", withimprovments=True)\n",
    "\n",
    "@app.route('/decrypt')\n",
    "def decrypt():\n",
    "    message = request.args.get('cipher')\n",
    "    return \"Plaintext \" + KES_cipher(message, streetname, housenumber, phonenr, mode=\"decrypt\", withimprovments=True)\n",
    "\n",
    "if __name__ == '__main__':\n",
    "    app.run()"
   ]
  }
 ],
 "metadata": {
  "kernelspec": {
   "display_name": "Python 3.9.13 ('DAT510')",
   "language": "python",
   "name": "python3"
  },
  "language_info": {
   "codemirror_mode": {
    "name": "ipython",
    "version": 3
   },
   "file_extension": ".py",
   "mimetype": "text/x-python",
   "name": "python",
   "nbconvert_exporter": "python",
   "pygments_lexer": "ipython3",
   "version": "3.9.13"
  },
  "orig_nbformat": 4,
  "vscode": {
   "interpreter": {
    "hash": "c6cb225e48f9a37ee904909fc8a3469ef23935e3df733108b849c8f686eb3968"
   }
  }
 },
 "nbformat": 4,
 "nbformat_minor": 2
}
