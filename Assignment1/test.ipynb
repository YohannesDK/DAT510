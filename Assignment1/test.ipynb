{
 "cells": [
  {
   "cell_type": "markdown",
   "metadata": {},
   "source": [
    "# Prototyping"
   ]
  },
  {
   "cell_type": "code",
   "execution_count": 1,
   "metadata": {},
   "outputs": [
    {
     "name": "stdout",
     "output_type": "stream",
     "text": [
      " FRRPU TIIYE AMIRN QLQVR BOKGK NSNQQ IUTTY\n",
      "        IIYEA WIJTG LVILA ZWZKT ZCJQH IFNYI WQZXH\n",
      "        RWZQW OHUTI KWNNQ YDLKA EOTUV XELMT SOSIX\n",
      "        JSKPR BUXTI TBUXV BLNSX FJKNC HBLUK PDGUI\n",
      "        IYEAM OJCXW FMJVM MAXYT XFLOL RRLAA JZAXT\n",
      "        YYWFY NBIVH VYQIO SLPXH ZGYLH WGFSX LPSND\n",
      "        UKVTR XPKSS VKOWM QKVCR TUUPR WQMWY XTYLQ\n",
      "        XYYTR TJJGO OLMXV CPPSL KBSEI PMEGC RWZRI\n",
      "        YDBGE BTMFP ZXVMF MGPVO OKZXX IGGFE SIBRX\n",
      "        SEWTY OOOKS PKYFC ZIEYF DAXKG ARBIW KFWUA\n",
      "        SLGLF NMIVH VVPTY IJNSX FJKNC HBLUK PDGUI\n",
      "        IYEAM HVFDY CULJS EHHMX LRXBN OLVMR \n",
      "FRRPUTIIYEAMIRNQLQVRBOKGKNSNQQIUTTYIIYEAWIJTGLVILAZWZKTZCJQHIFNYIWQZXHRWZQWOHUTIKWNNQYDLKAEOTUVXELMTSOSIXJSKPRBUXTITBUXVBLNSXFJKNCHBLUKPDGUIIYEAMOJCXWFMJVMMAXYTXFLOLRRLAAJZAXTYYWFYNBIVHVYQIOSLPXHZGYLHWGFSXLPSNDUKVTRXPKSSVKOWMQKVCRTUUPRWQMWYXTYLQXYYTRTJJGOOLMXVCPPSLKBSEIPMEGCRWZRIYDBGEBTMFPZXVMFMGPVOOKZXXIGGFESIBRXSEWTYOOOKSPKYFCZIEYFDAXKGARBIWKFWUASLGLFNMIVHVVPTYIJNSXFJKNCHBLUKPDGUIIYEAMHVFDYCULJSEHHMXLRXBNOLVMR\n"
     ]
    }
   ],
   "source": [
    "ENCRYPTED_TEXT = \\\n",
    "    \"\"\" FRRPU TIIYE AMIRN QLQVR BOKGK NSNQQ IUTTY\n",
    "        IIYEA WIJTG LVILA ZWZKT ZCJQH IFNYI WQZXH\n",
    "        RWZQW OHUTI KWNNQ YDLKA EOTUV XELMT SOSIX\n",
    "        JSKPR BUXTI TBUXV BLNSX FJKNC HBLUK PDGUI\n",
    "        IYEAM OJCXW FMJVM MAXYT XFLOL RRLAA JZAXT\n",
    "        YYWFY NBIVH VYQIO SLPXH ZGYLH WGFSX LPSND\n",
    "        UKVTR XPKSS VKOWM QKVCR TUUPR WQMWY XTYLQ\n",
    "        XYYTR TJJGO OLMXV CPPSL KBSEI PMEGC RWZRI\n",
    "        YDBGE BTMFP ZXVMF MGPVO OKZXX IGGFE SIBRX\n",
    "        SEWTY OOOKS PKYFC ZIEYF DAXKG ARBIW KFWUA\n",
    "        SLGLF NMIVH VVPTY IJNSX FJKNC HBLUK PDGUI\n",
    "        IYEAM HVFDY CULJS EHHMX LRXBN OLVMR \"\"\"\n",
    "ENCRYPTED_TEXT_WITHOUT_SPACES = ENCRYPTED_TEXT.replace(\" \", \"\").replace(\"\\n\", \"\")\n",
    "\n",
    "print(ENCRYPTED_TEXT)\n",
    "print(ENCRYPTED_TEXT_WITHOUT_SPACES)"
   ]
  },
  {
   "cell_type": "code",
   "execution_count": 22,
   "metadata": {},
   "outputs": [],
   "source": [
    "# we need to decrypt the text\n",
    "# we know that the key is no longer than 10 characters\n",
    "# we have to perform a frequency analysis on the text to find the key\n",
    "import pprint\n",
    "from typing import Dict\n",
    "\n",
    "def frequency_analysis(text):\n",
    "\n",
    "    freqnecy_dict = {}\n",
    "\n",
    "    for i in range(11):\n",
    "        freqnecy_dict[i] = {}\n",
    "\n",
    "        for letter_index in range(len(text)):\n",
    "            letter = text[letter_index]\n",
    "\n",
    "            if letter_index + i < len(text):\n",
    "                letter = text[letter_index : letter_index + i]\n",
    "            else:\n",
    "                letter = text[letter_index:]\n",
    "            \n",
    "\n",
    "            if letter in freqnecy_dict[i]:\n",
    "                freqnecy_dict[i][letter] += 1\n",
    "            else:\n",
    "                freqnecy_dict[i][letter] = 1\n",
    "    \n",
    "    return freqnecy_dict\n",
    "\n",
    "def get_max_key(freqnecy_dict: dict[dict]):\n",
    "    max_key_freq = {}\n",
    "    for key, frequencies in freqnecy_dict.items():\n",
    "        # find the most frequent letter in the frequencies\n",
    "        max_key_freq[f\"{key}\"] = max(frequencies, key=frequencies.get)\n",
    "    return max_key_freq\n",
    "\n",
    "def calculate_corr_with_english(max_key_freq: Dict):\n",
    "    english_freq = {\n",
    "        'E': 12.02,\n",
    "        'T': 9.10,\n",
    "        'A': 8.12,\n",
    "        'O': 7.68,\n",
    "        'I': 7.31,\n",
    "        'N': 6.95,\n",
    "        'S': 6.28,\n",
    "        'R': 6.02,\n",
    "        'H': 5.92,\n",
    "        'D': 4.32,\n",
    "        'L': 3.98,\n",
    "        'U': 2.88,\n",
    "        'C': 2.71,\n",
    "        'M': 2.61,\n",
    "        'F': 2.30,\n",
    "        'Y': 2.11,\n",
    "        'W': 2.09,\n",
    "        'G': 2.03,\n",
    "        'P': 1.82,\n",
    "        'B': 1.49,\n",
    "        'V': 1.11,\n",
    "        'K': 0.69,\n",
    "        'X': 0.17,\n",
    "        'Q': 0.11,\n",
    "        'J': 0.10,\n",
    "        'Z': 0.07,\n",
    "    }\n",
    "\n",
    "    corr = {}\n",
    "    for key, letter in max_key_freq.items():\n",
    "        if len(letter) == 0:\n",
    "            continue\n",
    "        if len(letter) == 1:\n",
    "            corr[key] = [letter, english_freq[letter]]\n",
    "            continue\n",
    "        avg = 0\n",
    "        for l in letter:\n",
    "            avg += english_freq[l]\n",
    "        corr[key] = [letter, avg / len(letter)]\n",
    "    return corr\n",
    "\n",
    "def find_key(freqnecy_dict):\n",
    "    key = \"\"\n",
    "    for i in range(10):\n",
    "        key += max(freqnecy_dict[i], key=freqnecy_dict[i].get)\n",
    "    return key\n",
    "\n",
    "def decrypt(text, key):\n",
    "    decrypted_text = \"\"\n",
    "    for i in range(len(text)):\n",
    "        decrypted_text += chr((ord(text[i]) - ord(key[i % len(key)])) % 26 + ord('A'))\n",
    "    return decrypted_text\n"
   ]
  },
  {
   "cell_type": "code",
   "execution_count": 25,
   "metadata": {},
   "outputs": [
    {
     "name": "stdout",
     "output_type": "stream",
     "text": [
      "{'0': '', '1': 'I', '2': 'IY', '3': 'IIY', '4': 'IIYE', '5': 'IIYEA', '6': 'IIYEAM', '7': 'NSXFJKN', '8': 'NSXFJKNC', '9': 'NSXFJKNCH', '10': 'NSXFJKNCHB'}\n",
      "[('5', ['IIYEA', 7.374]), ('1', ['I', 7.31]), ('4', ['IIYE', 7.1875]), ('6', ['IIYEAM', 6.579999999999999]), ('3', ['IIY', 5.576666666666667]), ('2', ['IY', 4.71]), ('9', ['NSXFJKNCH', 3.5633333333333335]), ('10', ['NSXFJKNCHB', 3.3560000000000003]), ('7', ['NSXFJKN', 3.3485714285714283]), ('8', ['NSXFJKNC', 3.26875])]\n"
     ]
    }
   ],
   "source": [
    "\n",
    "freqnecy_dict = frequency_analysis(ENCRYPTED_TEXT_WITHOUT_SPACES)\n",
    "max_freq = get_max_key(freqnecy_dict)\n",
    "corrs = calculate_corr_with_english(max_freq) \n",
    "\n",
    "print(max_freq)\n",
    "print(sorted(corrs.items(), key=lambda x: x[1][1], reverse=True))"
   ]
  },
  {
   "cell_type": "code",
   "execution_count": 27,
   "metadata": {},
   "outputs": [
    {
     "data": {
      "text/plain": [
       "'https://inventwithpython.com/hacking/chapter21.html'"
      ]
     },
     "execution_count": 27,
     "metadata": {},
     "output_type": "execute_result"
    }
   ],
   "source": [
    "\"https://inventwithpython.com/hacking/chapter21.html\""
   ]
  },
  {
   "cell_type": "code",
   "execution_count": 48,
   "metadata": {},
   "outputs": [],
   "source": [
    "# https://stackoverflow.com/questions/42983803/how-to-code-auto-key-cipher-in-python\n",
    "ALPHA = 'ABCDEFGHIJKLMNOPQRSTUVWXYZ'\n",
    "def cipherMessage (messages, key):\n",
    "    cipher = []\n",
    "    k_index = 0\n",
    "    key = key.upper()\n",
    "    for i in messages:\n",
    "        text = ALPHA.find(i.upper())\n",
    "        text -= ALPHA.find(key[k_index])\n",
    "        key += ALPHA[text]  # add current char to keystream\n",
    "        text %= len(ALPHA)\n",
    "        k_index += 1\n",
    "        cipher.append(ALPHA[text])\n",
    "    return ''.join(cipher)"
   ]
  },
  {
   "cell_type": "code",
   "execution_count": 34,
   "metadata": {},
   "outputs": [
    {
     "data": {
      "text/plain": [
       "'FRRPUTIIYEAMIRNQLQVRBOKGKNSNQQIUTTYIIYEAWIJTGLVILAZWZKTZCJQHIFNYIWQZXHRWZQWOHUTIKWNNQYDLKAEOTUVXELMTSOSIXJSKPRBUXTITBUXVBLNSXFJKNCHBLUKPDGUIIYEAMOJCXWFMJVMMAXYTXFLOLRRLAAJZAXTYYWFYNBIVHVYQIOSLPXHZGYLHWGFSXLPSNDUKVTRXPKSSVKOWMQKVCRTUUPRWQMWYXTYLQXYYTRTJJGOOLMXVCPPSLKBSEIPMEGCRWZRIYDBGEBTMFPZXVMFMGPVOOKZXXIGGFESIBRXSEWTYOOOKSPKYFCZIEYFDAXKGARBIWKFWUASLGLFNMIVHVVPTYIJNSXFJKNCHBLUKPDGUIIYEAMHVFDYCULJSEHHMXLRXBNOLVMR'"
      ]
     },
     "execution_count": 34,
     "metadata": {},
     "output_type": "execute_result"
    }
   ],
   "source": [
    "ENCRYPTED_TEXT_WITHOUT_SPACES"
   ]
  },
  {
   "cell_type": "code",
   "execution_count": null,
   "metadata": {},
   "outputs": [],
   "source": [
    "FRRPUTIIYEAMIRNQLQVRBOKGKNSNQQIUTTYIIYEAWIJTGLVILAZWZKTZCJQHIFNYIWQZXHRWZQWOHUTIKWNNQYDLKAEOTUVXELMTSOSIXJSKPRBUXTITBUXVBLNSXFJKNCHBLUKPDGUIIYEAMOJCXWFMJVMMAXYTXFLOLRRLAAJZAXTYYWFYNBIVHVYQIOSLPXHZGYLHWGFSXLPSNDUKVTRXPKSSVKOWMQKVCRTUUPRWQMWYXTYLQXYYTRTJJGOOLMXVCPPSLKBSEIPMEGCRWZRIYDBGEBTMFPZXVMFMGPVOOKZXXIGGFESIBRXSEWTYOOOKSPKYFCZIEYFDAXKGARBIWKFWUASLGLFNMIVHVVPTYIJNSXFJKNCHBLUKPDGUIIYEAMHVFDYCULJSEHHMXLRXBNOLVMR"
   ]
  },
  {
   "cell_type": "code",
   "execution_count": 50,
   "metadata": {},
   "outputs": [
    {
     "data": {
      "text/plain": [
       "'CRYPTOGRAPHYCANBESTRONGORWEAKCRYPTOGRAPHICSTRENGTHISMEASUREDINTHETIMEANDRESOURCESITWOULDREQUIRETORECOVERTHEPLAINTEXTTHERESULTOFSTRONGCRYPTOGRAPHYISCIPHERTEXTTHATISVERYDIFFICULTTODECIPHERWITHOUTPOSSESSIONOFTHEAPPROPRIATEDECODINGTOOLHOWDIFFICULTGIVENALLOFTODAYSCOMPUTINGPOWERANDAVAILABLETIMEEVENABILLIONCOMPUTERSDOINGABILLIONCHECKSASECONDITISNOTPOSSIBLETODECIPHERTHERESULTOFSTRONGCRYPTOGRAPHYBEFORETHEENDOFTHEUNIVERSE'"
      ]
     },
     "execution_count": 50,
     "metadata": {},
     "output_type": "execute_result"
    }
   ],
   "source": [
    "a = cipherMessage(ENCRYPTED_TEXT_WITHOUT_SPACES, \"DATABF\")\n",
    "a"
   ]
  },
  {
   "cell_type": "code",
   "execution_count": 42,
   "metadata": {},
   "outputs": [
    {
     "data": {
      "text/plain": [
       "'CRYPTOFIFEZHFRUQKLSRIOJBHNZNPLFUATXDFYLAVDGTNLUDIAGWYFQZJJPCFFUYHRNZEHQRWQDOGPQIRWMINYKLJVBOAUUSBLTTRJPIEJRFMRIUWOFTIUWQYLUSWAGKUCGWIURPCBRIPYDVJOQCWRCMQVLHXXFTWAIOSRQGXAQZZSQYFWETKBPVGQVQPORGMXOZFTIHDGENULWSMYRKCTQSMKZSUFLWTQJQZRAUTKOWXMVTUTFLPSVYARSEGGVOKHUVJPONIKISDDMMLGBMTZYIXYYGLBSHCPGXUHCMNPUJLKGXWDDGMERDYRESDRQYVONFPPRYEXWILYEYXXRGZMYIDKERRAZLFGCNTIUCSVWTXDGNZXEEHNJHAGRKWDFPFIFEZHEVMDXXRLQSDCEMELQSYNVLUHO'"
      ]
     },
     "execution_count": 42,
     "metadata": {},
     "output_type": "execute_result"
    }
   ],
   "source": [
    "b = decrypt(ENCRYPTED_TEXT_WITHOUT_SPACES, \"DATABF\")\n",
    "b"
   ]
  },
  {
   "cell_type": "code",
   "execution_count": null,
   "metadata": {},
   "outputs": [],
   "source": [
    "'CRYPTOGRAPHYCANBESTRONGORWEAKCRYPTOGRAPHICSTRENGTHISMEASUREDINTHETIMEANDRESOURCESITWOULDREQUIRETORECOVERTHEPLAINTEXTTHERESULTOFSTRONGCRYPTOGRAPHYISCIPHERTEXTTHATISVERYDIFFICULTTODECIPHERWITHOUTPOSSESSIONOFTHEAPPROPRIATEDECODINGTOOLHOWDIFFICULTGIVENAL'"
   ]
  },
  {
   "cell_type": "code",
   "execution_count": null,
   "metadata": {},
   "outputs": [],
   "source": [
    "GIVENAL\n",
    "'CRYPTOGRAPHYCANBESTRONGORWEAKCRYPTOGRAPHICSTRENGTHISMEASUREDINTHETIMEANDRESOURCESITWOULDREQUIRETORECOVERTHEPLAINTEXTTHERESULTOFSTRONGCRYPTOGRAPHYISCIPHERTEXTTHATISVERYDIFFICULTTODECIPHERWITHOUTPOSSESSIONOFTHEAPPROPRIATEDECODINGTOOLHOWDIFFICULTGIVENALLOFTODAYSCOMPUTINGPOWERANDAVAILABLETIMEEVENABILLIONCOMPUTERSDOINGABILLIONCHECKSASECONDITISNOTPOSSIBLETODECIPHERTHERESULTOFSTRONGCRYPTOGRAPHYBEFORETHEENDOFTHEUNIVERSE'"
   ]
  },
  {
   "cell_type": "code",
   "execution_count": 52,
   "metadata": {},
   "outputs": [],
   "source": [
    "alph = \"abcdefghijklmnopqrstuvwxyz\"\n",
    "\n",
    "def isLetter(char):\n",
    "\treturn (char in alph.upper()) or (char in alph.lower())\n",
    "\n",
    "def countLetters(text):\n",
    "\tcount = 0\n",
    "\tfor i in text:\n",
    "\t\tif(isLetter(i)):\n",
    "\t\t\tcount += 1\n",
    "\treturn count\n",
    "\n",
    "def getIOC(text):\n",
    "\tletterCounts = []\n",
    "\n",
    "\t# Loop through each letter in the alphabet - count number of times it appears\n",
    "\tfor i in range(len(alph)):\n",
    "\t\tcount = 0\n",
    "\t\tfor j in text:\n",
    "\t\t\tif j == alph[i]:\n",
    "\t\t\t\tcount += 1\n",
    "\t\tletterCounts.append(count)\n",
    "\n",
    "\t# Loop through all letter counts, applying the calculation (the sigma part)\n",
    "\ttotal = 0\n",
    "\tfor i in range(len(letterCounts)):\n",
    "\t\tni = letterCounts[i]\n",
    "\t\ttotal += ni * (ni - 1)\n",
    "\n",
    "\tN = countLetters(text)\n",
    "\tc = 26.0 # Number of letters in the alphabet\n",
    "\ttotal = float(total) / ((N * (N - 1)))\n",
    "\treturn total"
   ]
  },
  {
   "cell_type": "code",
   "execution_count": 53,
   "metadata": {},
   "outputs": [
    {
     "data": {
      "text/plain": [
       "0.0"
      ]
     },
     "execution_count": 53,
     "metadata": {},
     "output_type": "execute_result"
    }
   ],
   "source": [
    "getIOC(ENCRYPTED_TEXT_WITHOUT_SPACES)"
   ]
  },
  {
   "cell_type": "code",
   "execution_count": 56,
   "metadata": {},
   "outputs": [
    {
     "name": "stdout",
     "output_type": "stream",
     "text": [
      "0.0391711774634771\n"
     ]
    }
   ],
   "source": [
    "def numberOfInstances(ciph, phrase):\n",
    "    num = 0\n",
    "    lenarray = len(ciph)-len(phrase) # to not end up outside array\n",
    "    for i in range(lenarray):\n",
    "        if(ciph[i:(i+len(phrase))]) == phrase:\n",
    "            num = num + 1\n",
    "    return num\n",
    "\n",
    "def makecount(text = \"\"):\n",
    "    count = []\n",
    "    for char in ALPHA:\n",
    "        count.append([char,numberOfInstances(text,char)])\n",
    "    count.sort(key=lambda x: x[1],reverse=True)\n",
    "\n",
    "    return count\n",
    "\n",
    "def iocCalc(text):\n",
    "    count = makecount(text)\n",
    "    strLength = len(text)\n",
    "    result = 0\n",
    "    for letter,nr in count:\n",
    "        result = result + (nr*(nr-1))\n",
    "    divisor = (strLength*(strLength-1))\n",
    "    result = float(float(result)/float(divisor))\n",
    "    print(result)\n",
    "\n",
    "iocCalc(ENCRYPTED_TEXT_WITHOUT_SPACES)"
   ]
  },
  {
   "cell_type": "markdown",
   "metadata": {},
   "source": [
    "# DAT510 - Assignment 1"
   ]
  },
  {
   "cell_type": "markdown",
   "metadata": {},
   "source": [
    "### Abstract"
   ]
  },
  {
   "cell_type": "markdown",
   "metadata": {},
   "source": [
    "## Introduction"
   ]
  },
  {
   "cell_type": "markdown",
   "metadata": {},
   "source": [
    "## Desing and implementation"
   ]
  },
  {
   "cell_type": "markdown",
   "metadata": {},
   "source": [
    "### Part I"
   ]
  },
  {
   "cell_type": "markdown",
   "metadata": {},
   "source": [
    "### Part II"
   ]
  },
  {
   "cell_type": "markdown",
   "metadata": {},
   "source": [
    "## Test Results"
   ]
  },
  {
   "cell_type": "markdown",
   "metadata": {},
   "source": [
    "## Discussion"
   ]
  },
  {
   "cell_type": "markdown",
   "metadata": {},
   "source": [
    "## Conclusion"
   ]
  },
  {
   "cell_type": "markdown",
   "metadata": {},
   "source": [
    "## References"
   ]
  }
 ],
 "metadata": {
  "kernelspec": {
   "display_name": "Python 3.9.13 ('DAT510')",
   "language": "python",
   "name": "python3"
  },
  "language_info": {
   "codemirror_mode": {
    "name": "ipython",
    "version": 3
   },
   "file_extension": ".py",
   "mimetype": "text/x-python",
   "name": "python",
   "nbconvert_exporter": "python",
   "pygments_lexer": "ipython3",
   "version": "3.9.13"
  },
  "orig_nbformat": 4,
  "vscode": {
   "interpreter": {
    "hash": "c6cb225e48f9a37ee904909fc8a3469ef23935e3df733108b849c8f686eb3968"
   }
  }
 },
 "nbformat": 4,
 "nbformat_minor": 2
}
