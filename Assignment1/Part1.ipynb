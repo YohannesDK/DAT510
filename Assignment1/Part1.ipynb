{
 "cells": [
  {
   "cell_type": "markdown",
   "metadata": {},
   "source": [
    "# Part I - Poly-alphabetic Ciphers"
   ]
  },
  {
   "cell_type": "markdown",
   "metadata": {},
   "source": [
    "## Crypto Analysis"
   ]
  },
  {
   "cell_type": "code",
   "execution_count": 1,
   "metadata": {},
   "outputs": [],
   "source": [
    "import matplotlib.pyplot as plt\n",
    "import numpy as np\n",
    "import pprint"
   ]
  },
  {
   "cell_type": "markdown",
   "metadata": {},
   "source": [
    "Define Variables"
   ]
  },
  {
   "cell_type": "code",
   "execution_count": 2,
   "metadata": {},
   "outputs": [],
   "source": [
    "ENCRYPTED_TEXT = \\\n",
    "    \"\"\" FRRPU TIIYE AMIRN QLQVR BOKGK NSNQQ IUTTY\n",
    "        IIYEA WIJTG LVILA ZWZKT ZCJQH IFNYI WQZXH\n",
    "        RWZQW OHUTI KWNNQ YDLKA EOTUV XELMT SOSIX\n",
    "        JSKPR BUXTI TBUXV BLNSX FJKNC HBLUK PDGUI\n",
    "        IYEAM OJCXW FMJVM MAXYT XFLOL RRLAA JZAXT\n",
    "        YYWFY NBIVH VYQIO SLPXH ZGYLH WGFSX LPSND\n",
    "        UKVTR XPKSS VKOWM QKVCR TUUPR WQMWY XTYLQ\n",
    "        XYYTR TJJGO OLMXV CPPSL KBSEI PMEGC RWZRI\n",
    "        YDBGE BTMFP ZXVMF MGPVO OKZXX IGGFE SIBRX\n",
    "        SEWTY OOOKS PKYFC ZIEYF DAXKG ARBIW KFWUA\n",
    "        SLGLF NMIVH VVPTY IJNSX FJKNC HBLUK PDGUI\n",
    "        IYEAM HVFDY CULJS EHHMX LRXBN OLVMR \"\"\"\n",
    "\n",
    "ENCRYPTED_TEXT_WITHOUT_SPACES = ENCRYPTED_TEXT.replace(\" \", \"\").replace(\"\\n\", \"\")\n",
    "ENCRYPTED_TEXT_LEN = len(ENCRYPTED_TEXT_WITHOUT_SPACES)"
   ]
  },
  {
   "cell_type": "code",
   "execution_count": 3,
   "metadata": {},
   "outputs": [
    {
     "data": {
      "text/plain": [
       "'FRRPUTIIYEAMIRNQLQVRBOKGKNSNQQIUTTYIIYEAWIJTGLVILAZWZKTZCJQHIFNYIWQZXHRWZQWOHUTIKWNNQYDLKAEOTUVXELMTSOSIXJSKPRBUXTITBUXVBLNSXFJKNCHBLUKPDGUIIYEAMOJCXWFMJVMMAXYTXFLOLRRLAAJZAXTYYWFYNBIVHVYQIOSLPXHZGYLHWGFSXLPSNDUKVTRXPKSSVKOWMQKVCRTUUPRWQMWYXTYLQXYYTRTJJGOOLMXVCPPSLKBSEIPMEGCRWZRIYDBGEBTMFPZXVMFMGPVOOKZXXIGGFESIBRXSEWTYOOOKSPKYFCZIEYFDAXKGARBIWKFWUASLGLFNMIVHVVPTYIJNSXFJKNCHBLUKPDGUIIYEAMHVFDYCULJSEHHMXLRXBNOLVMR'"
      ]
     },
     "execution_count": 3,
     "metadata": {},
     "output_type": "execute_result"
    }
   ],
   "source": [
    "ENCRYPTED_TEXT_WITHOUT_SPACES"
   ]
  },
  {
   "cell_type": "code",
   "execution_count": 4,
   "metadata": {},
   "outputs": [],
   "source": [
    "# https://norvig.com/mayzner.html\n",
    "ENGLISH_LETTER_FREQUENCIES = { \"E\" : 12.49, \"T\" :  9.28, \"A\" :  8.04, \"O\" :  7.64, \"I\" :  7.57, \"N\" :  7.23, \"S\" :  6.51, \"R\" :  6.28, \"H\" :  5.05, \"L\" :  4.07, \"D\" :  3.82, \"C\" :  3.34, \"U\" :  2.73,\n",
    "                               \"M\" :  2.51, \"F\" :  2.40, \"P\" :  2.14, \"G\" :  1.87, \"W\" :  1.68, \"Y\" :  1.66, \"B\" :  1.48, \"V\" :  1.05, \"K\" :  0.54, \"X\" :  0.23, \"J\" :  0.16, \"Q\" :  0.12, \"Z\" :  0.09}\n",
    "sorted_ENGLISH_LETTER_FREQUENCIES = sorted(ENGLISH_LETTER_FREQUENCIES.items(), key=lambda x: x[0])"
   ]
  },
  {
   "cell_type": "markdown",
   "metadata": {},
   "source": [
    "Given that we are working with Polyalphabetic Ciphers, we will perform a frequency analysis on the ciphertext.\n",
    "This will help us with a couple of things:\n",
    "1. We can determine the length of the key\n",
    "2. To determine the strength of the polyalphabetic cipher which was used to encrypt the message"
   ]
  },
  {
   "cell_type": "code",
   "execution_count": 5,
   "metadata": {},
   "outputs": [],
   "source": [
    "def frequency_analysis(message):\n",
    "    frequencies = {}\n",
    "    for c in message:\n",
    "        if c in frequencies:\n",
    "            frequencies[c] += 1\n",
    "        else:\n",
    "            frequencies[c] = 1\n",
    "    return frequencies, sorted(frequencies.items(), key=lambda x: x[0])"
   ]
  },
  {
   "cell_type": "code",
   "execution_count": 6,
   "metadata": {},
   "outputs": [],
   "source": [
    "def PlotLetterFrequencies(english_letter_frequencies, cipher_letter_frequencies, sorted_english_letter_frequencies, sorted_cipher_letter_frequencies):\n",
    "    # create 4 subplots, 2 rows and 2 columns\n",
    "    fig, axs = plt.subplots(2, 2, figsize=(10, 10))\n",
    "    # plot english letter frequencies\n",
    "    axs[0, 0].bar(*zip(*english_letter_frequencies.items()))\n",
    "    axs[0, 0].bar(*zip(*english_letter_frequencies.items()))\n",
    "    axs[0, 0].set_title(\"English Letter Frequencies\")\n",
    "    # plot cipher letter frequencies, sorted by value\n",
    "    value_sorted_cipher_letter_frequencies = sorted(cipher_letter_frequencies.items(), key=lambda x: x[1], reverse=True)\n",
    "    axs[0, 1].bar(*zip(*value_sorted_cipher_letter_frequencies))\n",
    "    axs[0, 1].set_title(\"Cipher Letter Frequencies\")\n",
    "    # plot sorted english letter frequencies\n",
    "    axs[1, 0].bar(*zip(*sorted_english_letter_frequencies))\n",
    "    axs[1, 0].set_title(\"Sorted English Letter Frequencies\")\n",
    "    # plot sorted cipher letter frequencies\n",
    "    axs[1, 1].bar(*zip(*sorted_cipher_letter_frequencies))\n",
    "    axs[1, 1].set_title(\"Sorted Cipher Letter Frequencies\")\n",
    "    # show the plot\n",
    "    plt.show()"
   ]
  },
  {
   "cell_type": "code",
   "execution_count": 7,
   "metadata": {},
   "outputs": [
    {
     "name": "stdout",
     "output_type": "stream",
     "text": [
      "[('A', 13), ('B', 13), ('C', 9), ('D', 7), ('E', 13), ('F', 16), ('G', 14), ('H', 12), ('I', 27), ('J', 12), ('K', 20), ('L', 22), ('M', 17), ('N', 14), ('O', 16), ('P', 15), ('Q', 12), ('R', 18), ('S', 18), ('T', 20), ('U', 15), ('V', 18), ('W', 16), ('X', 24), ('Y', 23), ('Z', 11)]\n"
     ]
    }
   ],
   "source": [
    "CIPHER_LETTER_FREQUENCIES, sorted_CIPHER_LETTER_FREQUENCIES = frequency_analysis(ENCRYPTED_TEXT_WITHOUT_SPACES)\n",
    "print(sorted_CIPHER_LETTER_FREQUENCIES)"
   ]
  },
  {
   "cell_type": "code",
   "execution_count": 8,
   "metadata": {},
   "outputs": [
    {
     "data": {
      "image/png": "[encoded data removed]",
      "text/plain": [
       "<Figure size 720x720 with 4 Axes>"
      ]
     },
     "metadata": {
      "needs_background": "light"
     },
     "output_type": "display_data"
    }
   ],
   "source": [
    "PlotLetterFrequencies(ENGLISH_LETTER_FREQUENCIES, CIPHER_LETTER_FREQUENCIES, sorted_ENGLISH_LETTER_FREQUENCIES, sorted_CIPHER_LETTER_FREQUENCIES)"
   ]
  },
  {
   "cell_type": "markdown",
   "metadata": {},
   "source": [
    "<img src=\"./images/PolyAlphabeticCipherDistribution.jpg\">"
   ]
  },
  {
   "cell_type": "markdown",
   "metadata": {},
   "source": [
    "Looking at the the distribution of the characters in the cipher text, we see that the distrubtion is much more uniform than the distribution of the characters in the english language.\n",
    "An assumtion can be made that the cipher used, considering the polyalphabetic ciphers that have been presented in the lecture, and the typical nature of the Cipher distribution in (1), that the ciphers used might be Vigeneres cipher. \n",
    "#TODO show reference to the book."
   ]
  },
  {
   "cell_type": "markdown",
   "metadata": {},
   "source": [
    "---"
   ]
  },
  {
   "cell_type": "markdown",
   "metadata": {},
   "source": []
  },
  {
   "cell_type": "code",
   "execution_count": 9,
   "metadata": {},
   "outputs": [],
   "source": [
    "def GetNumberOfCoincidence(cipher, shift=1):\n",
    "    coincidences = 0\n",
    "    for i in range(0, len(cipher) - shift):\n",
    "        if cipher[i] == cipher[i + shift]:\n",
    "            coincidences += 1\n",
    "    return coincidences\n",
    "\n",
    "def GetCoincidencesAndPlot(cipher, max_shift=10):\n",
    "    coincidences = []\n",
    "    for i in range(1, max_shift):\n",
    "        coincidences.append(GetNumberOfCoincidence(cipher, i))\n",
    "    plt.bar(range(1, max_shift), coincidences)\n",
    "    plt.title(\"Coincidences\")"
   ]
  },
  {
   "cell_type": "code",
   "execution_count": 10,
   "metadata": {},
   "outputs": [
    {
     "data": {
      "image/png": "[encoded data removed]",
      "text/plain": [
       "<Figure size 432x288 with 1 Axes>"
      ]
     },
     "metadata": {
      "needs_background": "light"
     },
     "output_type": "display_data"
    }
   ],
   "source": [
    "GetCoincidencesAndPlot(ENCRYPTED_TEXT_WITHOUT_SPACES, 10)"
   ]
  },
  {
   "cell_type": "code",
   "execution_count": 11,
   "metadata": {},
   "outputs": [],
   "source": [
    "def SplitCipherIntoBins(cipher, number_of_bins):\n",
    "    bins = []\n",
    "    for i in range(0, number_of_bins):\n",
    "        bins.append([])\n",
    "    for i in range(0, len(cipher)):\n",
    "        bins[i % number_of_bins].append(cipher[i]) # append to bin based on position x % number_of_bins\n",
    "    return bins\n",
    "\n",
    "def FrequencyAnalysisOnBins(bins):\n",
    "    frequencies = []\n",
    "    for i in range(0, len(bins)):\n",
    "        frequencies.append(frequency_analysis(bins[i]))\n",
    "    return frequencies\n",
    "\n",
    "def PlotLetterFrequenciesOnBin(frequencies, bin_number):\n",
    "    plt.bar(*zip(*sorted(frequencies[bin_number][0].items(), key=lambda x: x[0])))\n",
    "    plt.title(\"Letter Frequencies on Bin \" + str(bin_number))\n",
    "\n",
    "def CollectBinsForAllPossibleBinSizes(cipher, min=1, max=20):\n",
    "    bins = []\n",
    "    for i in range(min, max):\n",
    "        bins.append(SplitCipherIntoBins(cipher, i))\n",
    "    return bins"
   ]
  },
  {
   "cell_type": "code",
   "execution_count": 12,
   "metadata": {},
   "outputs": [],
   "source": [
    "bin_collection = CollectBinsForAllPossibleBinSizes(ENCRYPTED_TEXT_WITHOUT_SPACES, 3, 10)"
   ]
  },
  {
   "cell_type": "code",
   "execution_count": 13,
   "metadata": {},
   "outputs": [
    {
     "data": {
      "image/png": "[encoded data removed]",
      "text/plain": [
       "<Figure size 432x288 with 1 Axes>"
      ]
     },
     "metadata": {
      "needs_background": "light"
     },
     "output_type": "display_data"
    }
   ],
   "source": [
    "tri_bin_frequencies = FrequencyAnalysisOnBins(bin_collection[0])\n",
    "PlotLetterFrequenciesOnBin(tri_bin_frequencies, 0)"
   ]
  },
  {
   "cell_type": "code",
   "execution_count": 14,
   "metadata": {},
   "outputs": [
    {
     "data": {
      "image/png": "[encoded data removed]",
      "text/plain": [
       "<Figure size 432x288 with 1 Axes>"
      ]
     },
     "metadata": {
      "needs_background": "light"
     },
     "output_type": "display_data"
    }
   ],
   "source": [
    "PlotLetterFrequenciesOnBin(tri_bin_frequencies, 1)"
   ]
  },
  {
   "cell_type": "code",
   "execution_count": 15,
   "metadata": {},
   "outputs": [
    {
     "data": {
      "image/png": "[encoded data removed]",
      "text/plain": [
       "<Figure size 432x288 with 1 Axes>"
      ]
     },
     "metadata": {
      "needs_background": "light"
     },
     "output_type": "display_data"
    }
   ],
   "source": [
    "PlotLetterFrequenciesOnBin(tri_bin_frequencies, 2)"
   ]
  },
  {
   "cell_type": "code",
   "execution_count": 16,
   "metadata": {},
   "outputs": [
    {
     "data": {
      "image/png": "[encoded data removed]",
      "text/plain": [
       "<Figure size 432x288 with 1 Axes>"
      ]
     },
     "metadata": {
      "needs_background": "light"
     },
     "output_type": "display_data"
    }
   ],
   "source": [
    "six_bin_frequencies = FrequencyAnalysisOnBins(bin_collection[1])\n",
    "PlotLetterFrequenciesOnBin(six_bin_frequencies, 3)"
   ]
  },
  {
   "cell_type": "code",
   "execution_count": 17,
   "metadata": {},
   "outputs": [
    {
     "data": {
      "image/png": "[encoded data removed]",
      "text/plain": [
       "<Figure size 432x288 with 1 Axes>"
      ]
     },
     "metadata": {
      "needs_background": "light"
     },
     "output_type": "display_data"
    }
   ],
   "source": [
    "vign_text = \"SPGCIQVKLMBWMVOEPALMUYYLAEQVCMFHZMBGSZYSBPOVQHRLWXIQPWBMBELKMEICFMYRTICXKFJIBRIPAIIKRIQTEBPOQYAMKAKRBTCUWDLCYMAIXYPZIIBKFGNLWAZMRHP\" #key is key\n",
    "bin_collection_vign = CollectBinsForAllPossibleBinSizes(vign_text, 3, 6)\n",
    "bin_collection_vign_frequencies = FrequencyAnalysisOnBins(bin_collection_vign[0])\n",
    "PlotLetterFrequenciesOnBin(bin_collection_vign_frequencies, 0)"
   ]
  },
  {
   "cell_type": "markdown",
   "metadata": {},
   "source": [
    "Looking at these bins it looks like there was no repeating key used in the process of encrypting the message.\n",
    "This suggests that the use of a autokey cipher may have been used."
   ]
  },
  {
   "cell_type": "markdown",
   "metadata": {},
   "source": [
    "- autokey cipher or the running key cipher. \n",
    "https://www.youtube.com/watch?v=QgHnr8-h0xI&ab_channel=ProofofConcept\n",
    "https://crypto.katestange.net/cryptanalysis-tools/"
   ]
  },
  {
   "cell_type": "markdown",
   "metadata": {},
   "source": [
    "---"
   ]
  },
  {
   "cell_type": "markdown",
   "metadata": {},
   "source": [
    "Next we need to find the key used to cipher the message."
   ]
  },
  {
   "cell_type": "code",
   "execution_count": 18,
   "metadata": {},
   "outputs": [],
   "source": [
    "# https://stackoverflow.com/questions/42983803/how-to-code-auto-key-cipher-in-python\n",
    "ALPHA = 'ABCDEFGHIJKLMNOPQRSTUVWXYZ'\n",
    "def autokey_cipher (messages, key, mode='encrypt'):\n",
    "    cipher = []\n",
    "    k_index = 0\n",
    "    key = key.upper()\n",
    "    for i in messages:\n",
    "        text = ALPHA.find(i.upper())\n",
    "        if mode == 'encrypt':\n",
    "             text += ALPHA.find(key[k_index])\n",
    "             key += i.upper()  # add current char to keystream\n",
    "\n",
    "        elif mode == 'decrypt':\n",
    "             text -= ALPHA.find(key[k_index])\n",
    "             key += ALPHA[text]  # add current char to keystream\n",
    "\n",
    "        text %= len(ALPHA)\n",
    "        k_index += 1\n",
    "        cipher.append(ALPHA[text])\n",
    "    return ''.join(cipher)"
   ]
  },
  {
   "cell_type": "code",
   "execution_count": 19,
   "metadata": {},
   "outputs": [
    {
     "name": "stdout",
     "output_type": "stream",
     "text": [
      "DLGLPASBWSMQWLEEYW\n",
      "THISISATESTMESSAGE\n"
     ]
    }
   ],
   "source": [
    "test_msg, test_key = \"THISISATESTMESSAGE\", \"KEY\"\n",
    "test_enc_autokey = autokey_cipher(test_msg, test_key)\n",
    "test_dec_autokey = autokey_cipher(test_enc_autokey, test_key, 'decrypt')\n",
    "print(test_enc_autokey)\n",
    "print(test_dec_autokey)"
   ]
  },
  {
   "cell_type": "code",
   "execution_count": null,
   "metadata": {},
   "outputs": [],
   "source": [
    "autokey_cipher(ENCRYPTED_TEXT_WITHOUT_SPACES, \"\")"
   ]
  }
 ],
 "metadata": {
  "kernelspec": {
   "display_name": "Python 3.10.3 64-bit",
   "language": "python",
   "name": "python3"
  },
  "language_info": {
   "codemirror_mode": {
    "name": "ipython",
    "version": 3
   },
   "file_extension": ".py",
   "mimetype": "text/x-python",
   "name": "python",
   "nbconvert_exporter": "python",
   "pygments_lexer": "ipython3",
   "version": "3.10.3"
  },
  "orig_nbformat": 4,
  "vscode": {
   "interpreter": {
    "hash": "369f2c481f4da34e4445cda3fffd2e751bd1c4d706f27375911949ba6bb62e1c"
   }
  }
 },
 "nbformat": 4,
 "nbformat_minor": 2
}
